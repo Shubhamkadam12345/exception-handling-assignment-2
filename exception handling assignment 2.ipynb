{
 "cells": [
  {
   "cell_type": "code",
   "execution_count": null,
   "id": "5852bd25-c395-44b1-a823-5d0ebe11bf56",
   "metadata": {},
   "outputs": [],
   "source": [
    "Q.1"
   ]
  },
  {
   "cell_type": "code",
   "execution_count": null,
   "id": "aacbde37-294b-4e5a-a260-496b58516027",
   "metadata": {},
   "outputs": [],
   "source": [
    "Class my custome Error ( Exception ) \n",
    "def___inti___( self,* args):\n",
    "    if args:\n",
    "        self message = args [0]\n",
    "        else:\n",
    "            self message = none "
   ]
  },
  {
   "cell_type": "code",
   "execution_count": 2,
   "id": "d7aeac62-e254-42d7-b364-0dc88ca32b6d",
   "metadata": {},
   "outputs": [
    {
     "ename": "SyntaxError",
     "evalue": "invalid syntax (1382034368.py, line 1)",
     "output_type": "error",
     "traceback": [
      "\u001b[0;36m  Cell \u001b[0;32mIn[2], line 1\u001b[0;36m\u001b[0m\n\u001b[0;31m    def____str____ (self):\u001b[0m\n\u001b[0m                         ^\u001b[0m\n\u001b[0;31mSyntaxError\u001b[0m\u001b[0;31m:\u001b[0m invalid syntax\n"
     ]
    }
   ],
   "source": [
    "def____str____ (self):\n",
    "    print ( calling str)\n",
    "    it self message:\n",
    "        return my custome Error, {0} format ( self message )\n",
    "    else:\n",
    "        return my custome error has been raised"
   ]
  },
  {
   "cell_type": "code",
   "execution_count": null,
   "id": "195fae56-5395-45a7-883f-13549cadf4bc",
   "metadata": {},
   "outputs": [],
   "source": [
    "Q.2"
   ]
  },
  {
   "cell_type": "code",
   "execution_count": null,
   "id": "c6ec8396-bd73-4510-b375-eaa6125501f0",
   "metadata": {},
   "outputs": [],
   "source": [
    "# import inspect module \n",
    "import inspect"
   ]
  },
  {
   "cell_type": "code",
   "execution_count": null,
   "id": "36962ca6-1b9b-4b12-9a36-e28a36351563",
   "metadata": {},
   "outputs": [],
   "source": [
    "# our tree class function \n",
    "def tree class ( cls,ind= 0 )"
   ]
  },
  {
   "cell_type": "code",
   "execution_count": null,
   "id": "0ea43e1b-7a39-4bfe-8e28-c082cfaf0918",
   "metadata": {},
   "outputs": [],
   "source": [
    "# print name of the class \n",
    "print ( '____' * ind, cls____name__) "
   ]
  },
  {
   "cell_type": "code",
   "execution_count": null,
   "id": "2dbe065d-5d3b-48bd-aa4e-0a9190580fe4",
   "metadata": {},
   "outputs": [],
   "source": [
    "* iterating through subclasses\n",
    "for in cls____subclasses \n",
    "tree class ( i, ind * 3 ) \n",
    "print ( \" Hierzrchy for Built in exception is :'  ) "
   ]
  },
  {
   "cell_type": "code",
   "execution_count": null,
   "id": "1058ba58-6eea-492b-bac6-ee9120cbaf98",
   "metadata": {},
   "outputs": [],
   "source": [
    "# inspect getmro () return a tuple \n",
    "# of class clss base classes\n",
    "# building a tree hitrarschy inspect get class tree ( Inspect getmro ( base Expection) \n",
    "# Function call \n",
    "  tree class ( base Exception ) "
   ]
  },
  {
   "cell_type": "code",
   "execution_count": null,
   "id": "d9b83b5c-d695-42a1-8006-f00e8832cce6",
   "metadata": {},
   "outputs": [],
   "source": [
    "Q.3"
   ]
  },
  {
   "cell_type": "code",
   "execution_count": null,
   "id": "5ed6ffe0-52d9-4811-bf14-158ce4a33372",
   "metadata": {},
   "outputs": [],
   "source": [
    "Examples:"
   ]
  },
  {
   "cell_type": "code",
   "execution_count": null,
   "id": "a5490a5c-e412-4e38-8832-ff416b9b7f18",
   "metadata": {},
   "outputs": [],
   "source": [
    "1) Overflow error:"
   ]
  },
  {
   "cell_type": "code",
   "execution_count": null,
   "id": "acf6be0f-53a4-4f63-95e6-04b19128acb9",
   "metadata": {},
   "outputs": [],
   "source": [
    "import OS\n",
    "file name = examples txt\n",
    "try:\n",
    "    with open ( file name, 'r' ) as file \n",
    "    content = file read ) \n",
    "except file no found error \n",
    "print ( f\" the file ( File name ) was not found ) \n",
    "except permission Error\n",
    "       print ( F \" You don't have permission to acess { File name } \n",
    "              else "
   ]
  },
  {
   "cell_type": "markdown",
   "id": "930c5ef8-34bf-4f89-987f-a2f256887f51",
   "metadata": {},
   "source": [
    "2) Zero division error: "
   ]
  },
  {
   "cell_type": "code",
   "execution_count": null,
   "id": "78765535-aa69-4d63-b741-2ce89b7b8bc4",
   "metadata": {},
   "outputs": [],
   "source": [
    "x= 6\n",
    "y=3 "
   ]
  },
  {
   "cell_type": "code",
   "execution_count": null,
   "id": "7cec4108-d84b-4de8-b229-65f1cf43c56b",
   "metadata": {},
   "outputs": [],
   "source": [
    "try:\n",
    "    solution = x/y\n",
    "    except zero division error \n",
    "    print ( \" Answer is \" , solution ) \n",
    "    >> answer is 2.0"
   ]
  },
  {
   "cell_type": "code",
   "execution_count": null,
   "id": "e30ff39e-d62a-48c6-9a30-d05fc68b9d75",
   "metadata": {},
   "outputs": [],
   "source": [
    "Q.4"
   ]
  },
  {
   "cell_type": "code",
   "execution_count": null,
   "id": "a8a0c4df-e1cf-4b31-bb43-4866fee08b28",
   "metadata": {},
   "outputs": [],
   "source": [
    "1) key error : \n",
    "              Ages = { Jim : 30: pam: 28 kevin 33 } \n",
    "person = input ( Get age for :) \n",
    "age = ages get ( person 0) "
   ]
  },
  {
   "cell_type": "code",
   "execution_count": null,
   "id": "b4d96f05-4850-43da-a777-5e407ee239da",
   "metadata": {},
   "outputs": [],
   "source": [
    "if age : \n",
    "        print ( f { person } is { age } year old:) \n",
    "        else: \n",
    "            print ( f { Person } s age unknow "
   ]
  },
  {
   "cell_type": "markdown",
   "id": "566928fb-06b3-42a4-90a3-22f247614678",
   "metadata": {},
   "source": [
    "2) Index error:\n",
    "               def double___index ( 1 st index ) :\n",
    "               if index range ( len ( 1st ) -1 \n",
    "               1st [ index ] = 1st [ index ]* 2 \n",
    "               return 1st \n",
    "               return 1st"
   ]
  },
  {
   "cell_type": "code",
   "execution_count": null,
   "id": "fe27e465-8b34-4332-aea6-7e18c4000585",
   "metadata": {},
   "outputs": [],
   "source": [
    "Q.5"
   ]
  },
  {
   "cell_type": "code",
   "execution_count": null,
   "id": "aca5b0f0-17f8-445c-9de0-affc07e6931d",
   "metadata": {},
   "outputs": [],
   "source": [
    "1) From opencensos trance import measure "
   ]
  },
  {
   "cell_type": "code",
   "execution_count": null,
   "id": "0132827d-34d5-47eb-b8c3-70a9dbbf5bef",
   "metadata": {},
   "outputs": [],
   "source": [
    "2) import string "
   ]
  },
  {
   "cell_type": "code",
   "execution_count": null,
   "id": "c333fa01-bb36-4024-9579-be786a742a64",
   "metadata": {},
   "outputs": [],
   "source": [
    "3) class measure ( Measure measure ) : \n",
    "    def____inti( self, name decription unit ) "
   ]
  },
  {
   "cell_type": "code",
   "execution_count": null,
   "id": "03009a0a-dc01-4dda-9569-8618065afd06",
   "metadata": {},
   "outputs": [],
   "source": [
    "4) if  not ( len ( name ) > self name__max__length or all (ch in raise value Error\n",
    " ( self error__msg__invalid__name)\n",
    "self name= name\n",
    "self description= descripition\n",
    "self unit= unit\n",
    "                                                           \n",
    "def get____name( self ):\n",
    "return self name                                                            "
   ]
  },
  {
   "cell_type": "code",
   "execution_count": null,
   "id": "d6d02186-3fad-4e56-8453-de3597ad3fb6",
   "metadata": {},
   "outputs": [],
   "source": [
    "Q.6"
   ]
  },
  {
   "cell_type": "code",
   "execution_count": 3,
   "id": "13d3224a-dcd7-4d46-a2b5-9b4e1228806c",
   "metadata": {},
   "outputs": [
    {
     "ename": "SyntaxError",
     "evalue": "invalid syntax (1516346438.py, line 1)",
     "output_type": "error",
     "traceback": [
      "\u001b[0;36m  Cell \u001b[0;32mIn[3], line 1\u001b[0;36m\u001b[0m\n\u001b[0;31m    def add ___ number ():\u001b[0m\n\u001b[0m            ^\u001b[0m\n\u001b[0;31mSyntaxError\u001b[0m\u001b[0;31m:\u001b[0m invalid syntax\n"
     ]
    }
   ],
   "source": [
    "def add ___ number ():\n",
    "num1 = input ()\n",
    "num2 = input ()\n",
    "result=0\n",
    "try:\n",
    "    result = int ( num 1 ) * int ( num 2) \n",
    "    except value error \n",
    "    print ( There was an error ) \n",
    "    raise \n",
    "    else:\n",
    "        return result"
   ]
  }
 ],
 "metadata": {
  "kernelspec": {
   "display_name": "Python 3 (ipykernel)",
   "language": "python",
   "name": "python3"
  },
  "language_info": {
   "codemirror_mode": {
    "name": "ipython",
    "version": 3
   },
   "file_extension": ".py",
   "mimetype": "text/x-python",
   "name": "python",
   "nbconvert_exporter": "python",
   "pygments_lexer": "ipython3",
   "version": "3.10.8"
  }
 },
 "nbformat": 4,
 "nbformat_minor": 5
}
